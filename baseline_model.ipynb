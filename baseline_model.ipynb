{
 "cells": [
  {
   "cell_type": "markdown",
   "metadata": {},
   "source": [
    "#Implement baseline Random Forest model"
   ]
  },
  {
   "cell_type": "code",
   "execution_count": 27,
   "metadata": {
    "collapsed": false
   },
   "outputs": [],
   "source": [
    "import pandas as pd\n",
    "import numpy as np\n",
    "\n",
    "import sklearn\n",
    "from sklearn.ensemble import RandomForestClassifier\n",
    "from sklearn import cross_validation\n",
    "from sklearn.metrics import confusion_matrix\n",
    "from sklearn.metrics import accuracy_score"
   ]
  },
  {
   "cell_type": "code",
   "execution_count": 2,
   "metadata": {
    "collapsed": false
   },
   "outputs": [
    {
     "data": {
      "text/html": [
       "<div>\n",
       "<table border=\"1\" class=\"dataframe\">\n",
       "  <thead>\n",
       "    <tr style=\"text-align: right;\">\n",
       "      <th></th>\n",
       "      <th>PassengerId</th>\n",
       "      <th>Survived</th>\n",
       "      <th>Pclass</th>\n",
       "      <th>Name</th>\n",
       "      <th>Sex</th>\n",
       "      <th>Age</th>\n",
       "      <th>SibSp</th>\n",
       "      <th>Parch</th>\n",
       "      <th>Ticket</th>\n",
       "      <th>Fare</th>\n",
       "      <th>Cabin</th>\n",
       "      <th>Embarked</th>\n",
       "    </tr>\n",
       "  </thead>\n",
       "  <tbody>\n",
       "    <tr>\n",
       "      <th>0</th>\n",
       "      <td>1</td>\n",
       "      <td>0</td>\n",
       "      <td>3</td>\n",
       "      <td>Braund, Mr. Owen Harris</td>\n",
       "      <td>male</td>\n",
       "      <td>22.0</td>\n",
       "      <td>1</td>\n",
       "      <td>0</td>\n",
       "      <td>A/5 21171</td>\n",
       "      <td>7.2500</td>\n",
       "      <td>NaN</td>\n",
       "      <td>S</td>\n",
       "    </tr>\n",
       "    <tr>\n",
       "      <th>1</th>\n",
       "      <td>2</td>\n",
       "      <td>1</td>\n",
       "      <td>1</td>\n",
       "      <td>Cumings, Mrs. John Bradley (Florence Briggs Th...</td>\n",
       "      <td>female</td>\n",
       "      <td>38.0</td>\n",
       "      <td>1</td>\n",
       "      <td>0</td>\n",
       "      <td>PC 17599</td>\n",
       "      <td>71.2833</td>\n",
       "      <td>C85</td>\n",
       "      <td>C</td>\n",
       "    </tr>\n",
       "    <tr>\n",
       "      <th>2</th>\n",
       "      <td>3</td>\n",
       "      <td>1</td>\n",
       "      <td>3</td>\n",
       "      <td>Heikkinen, Miss. Laina</td>\n",
       "      <td>female</td>\n",
       "      <td>26.0</td>\n",
       "      <td>0</td>\n",
       "      <td>0</td>\n",
       "      <td>STON/O2. 3101282</td>\n",
       "      <td>7.9250</td>\n",
       "      <td>NaN</td>\n",
       "      <td>S</td>\n",
       "    </tr>\n",
       "    <tr>\n",
       "      <th>3</th>\n",
       "      <td>4</td>\n",
       "      <td>1</td>\n",
       "      <td>1</td>\n",
       "      <td>Futrelle, Mrs. Jacques Heath (Lily May Peel)</td>\n",
       "      <td>female</td>\n",
       "      <td>35.0</td>\n",
       "      <td>1</td>\n",
       "      <td>0</td>\n",
       "      <td>113803</td>\n",
       "      <td>53.1000</td>\n",
       "      <td>C123</td>\n",
       "      <td>S</td>\n",
       "    </tr>\n",
       "    <tr>\n",
       "      <th>4</th>\n",
       "      <td>5</td>\n",
       "      <td>0</td>\n",
       "      <td>3</td>\n",
       "      <td>Allen, Mr. William Henry</td>\n",
       "      <td>male</td>\n",
       "      <td>35.0</td>\n",
       "      <td>0</td>\n",
       "      <td>0</td>\n",
       "      <td>373450</td>\n",
       "      <td>8.0500</td>\n",
       "      <td>NaN</td>\n",
       "      <td>S</td>\n",
       "    </tr>\n",
       "  </tbody>\n",
       "</table>\n",
       "</div>"
      ],
      "text/plain": [
       "   PassengerId  Survived  Pclass  \\\n",
       "0            1         0       3   \n",
       "1            2         1       1   \n",
       "2            3         1       3   \n",
       "3            4         1       1   \n",
       "4            5         0       3   \n",
       "\n",
       "                                                Name     Sex   Age  SibSp  \\\n",
       "0                            Braund, Mr. Owen Harris    male  22.0      1   \n",
       "1  Cumings, Mrs. John Bradley (Florence Briggs Th...  female  38.0      1   \n",
       "2                             Heikkinen, Miss. Laina  female  26.0      0   \n",
       "3       Futrelle, Mrs. Jacques Heath (Lily May Peel)  female  35.0      1   \n",
       "4                           Allen, Mr. William Henry    male  35.0      0   \n",
       "\n",
       "   Parch            Ticket     Fare Cabin Embarked  \n",
       "0      0         A/5 21171   7.2500   NaN        S  \n",
       "1      0          PC 17599  71.2833   C85        C  \n",
       "2      0  STON/O2. 3101282   7.9250   NaN        S  \n",
       "3      0            113803  53.1000  C123        S  \n",
       "4      0            373450   8.0500   NaN        S  "
      ]
     },
     "execution_count": 2,
     "metadata": {},
     "output_type": "execute_result"
    }
   ],
   "source": [
    "train = pd.read_csv('train.csv')\n",
    "train.head()"
   ]
  },
  {
   "cell_type": "markdown",
   "metadata": {},
   "source": [
    "#Make Dummies\n",
    "\n",
    "###Sex"
   ]
  },
  {
   "cell_type": "code",
   "execution_count": 3,
   "metadata": {
    "collapsed": false
   },
   "outputs": [
    {
     "name": "stdout",
     "output_type": "stream",
     "text": [
      "object 2 ['male' 'female']\n",
      "bool 2 [True False]\n"
     ]
    }
   ],
   "source": [
    "# check type, distinct count, & values\n",
    "print train.Sex.dtype, len(train.Sex.unique()), train.Sex.unique() \n",
    "\n",
    "# make boolean\n",
    "train.Sex = (train.Sex == 'male')\n",
    "\n",
    "# verify\n",
    "print train.Sex.dtype, len(train.Sex.unique()), train.Sex.unique() "
   ]
  },
  {
   "cell_type": "markdown",
   "metadata": {},
   "source": [
    "###Embarked"
   ]
  },
  {
   "cell_type": "code",
   "execution_count": 4,
   "metadata": {
    "collapsed": false
   },
   "outputs": [
    {
     "name": "stdout",
     "output_type": "stream",
     "text": [
      "S      644\n",
      "C      168\n",
      "Q       77\n",
      "NaN      2\n",
      "Name: Embarked, dtype: int64\n"
     ]
    },
    {
     "data": {
      "text/plain": [
       "S    646\n",
       "C    168\n",
       "Q     77\n",
       "Name: Embarked, dtype: int64"
      ]
     },
     "execution_count": 4,
     "metadata": {},
     "output_type": "execute_result"
    }
   ],
   "source": [
    "# treat nan; assume 'S'\n",
    "print train.Embarked.value_counts(dropna=False)\n",
    "train.Embarked = train.Embarked.replace(np.nan, 'S')\n",
    "\n",
    "train.Embarked.value_counts(dropna=False)"
   ]
  },
  {
   "cell_type": "code",
   "execution_count": 5,
   "metadata": {
    "collapsed": false
   },
   "outputs": [
    {
     "name": "stdout",
     "output_type": "stream",
     "text": [
      "object 3 ['S' 'C' 'Q']\n"
     ]
    },
    {
     "data": {
      "text/html": [
       "<div>\n",
       "<table border=\"1\" class=\"dataframe\">\n",
       "  <thead>\n",
       "    <tr style=\"text-align: right;\">\n",
       "      <th></th>\n",
       "      <th>PassengerId</th>\n",
       "      <th>Survived</th>\n",
       "      <th>Pclass</th>\n",
       "      <th>Name</th>\n",
       "      <th>Sex</th>\n",
       "      <th>Age</th>\n",
       "      <th>SibSp</th>\n",
       "      <th>Parch</th>\n",
       "      <th>Ticket</th>\n",
       "      <th>Fare</th>\n",
       "      <th>Cabin</th>\n",
       "      <th>Embarked</th>\n",
       "      <th>embarked_C</th>\n",
       "      <th>embarked_Q</th>\n",
       "      <th>embarked_S</th>\n",
       "    </tr>\n",
       "  </thead>\n",
       "  <tbody>\n",
       "    <tr>\n",
       "      <th>0</th>\n",
       "      <td>1</td>\n",
       "      <td>0</td>\n",
       "      <td>3</td>\n",
       "      <td>Braund, Mr. Owen Harris</td>\n",
       "      <td>True</td>\n",
       "      <td>22.0</td>\n",
       "      <td>1</td>\n",
       "      <td>0</td>\n",
       "      <td>A/5 21171</td>\n",
       "      <td>7.2500</td>\n",
       "      <td>NaN</td>\n",
       "      <td>S</td>\n",
       "      <td>False</td>\n",
       "      <td>False</td>\n",
       "      <td>True</td>\n",
       "    </tr>\n",
       "    <tr>\n",
       "      <th>1</th>\n",
       "      <td>2</td>\n",
       "      <td>1</td>\n",
       "      <td>1</td>\n",
       "      <td>Cumings, Mrs. John Bradley (Florence Briggs Th...</td>\n",
       "      <td>False</td>\n",
       "      <td>38.0</td>\n",
       "      <td>1</td>\n",
       "      <td>0</td>\n",
       "      <td>PC 17599</td>\n",
       "      <td>71.2833</td>\n",
       "      <td>C85</td>\n",
       "      <td>C</td>\n",
       "      <td>True</td>\n",
       "      <td>False</td>\n",
       "      <td>False</td>\n",
       "    </tr>\n",
       "    <tr>\n",
       "      <th>2</th>\n",
       "      <td>3</td>\n",
       "      <td>1</td>\n",
       "      <td>3</td>\n",
       "      <td>Heikkinen, Miss. Laina</td>\n",
       "      <td>False</td>\n",
       "      <td>26.0</td>\n",
       "      <td>0</td>\n",
       "      <td>0</td>\n",
       "      <td>STON/O2. 3101282</td>\n",
       "      <td>7.9250</td>\n",
       "      <td>NaN</td>\n",
       "      <td>S</td>\n",
       "      <td>False</td>\n",
       "      <td>False</td>\n",
       "      <td>True</td>\n",
       "    </tr>\n",
       "    <tr>\n",
       "      <th>3</th>\n",
       "      <td>4</td>\n",
       "      <td>1</td>\n",
       "      <td>1</td>\n",
       "      <td>Futrelle, Mrs. Jacques Heath (Lily May Peel)</td>\n",
       "      <td>False</td>\n",
       "      <td>35.0</td>\n",
       "      <td>1</td>\n",
       "      <td>0</td>\n",
       "      <td>113803</td>\n",
       "      <td>53.1000</td>\n",
       "      <td>C123</td>\n",
       "      <td>S</td>\n",
       "      <td>False</td>\n",
       "      <td>False</td>\n",
       "      <td>True</td>\n",
       "    </tr>\n",
       "    <tr>\n",
       "      <th>4</th>\n",
       "      <td>5</td>\n",
       "      <td>0</td>\n",
       "      <td>3</td>\n",
       "      <td>Allen, Mr. William Henry</td>\n",
       "      <td>True</td>\n",
       "      <td>35.0</td>\n",
       "      <td>0</td>\n",
       "      <td>0</td>\n",
       "      <td>373450</td>\n",
       "      <td>8.0500</td>\n",
       "      <td>NaN</td>\n",
       "      <td>S</td>\n",
       "      <td>False</td>\n",
       "      <td>False</td>\n",
       "      <td>True</td>\n",
       "    </tr>\n",
       "  </tbody>\n",
       "</table>\n",
       "</div>"
      ],
      "text/plain": [
       "   PassengerId  Survived  Pclass  \\\n",
       "0            1         0       3   \n",
       "1            2         1       1   \n",
       "2            3         1       3   \n",
       "3            4         1       1   \n",
       "4            5         0       3   \n",
       "\n",
       "                                                Name    Sex   Age  SibSp  \\\n",
       "0                            Braund, Mr. Owen Harris   True  22.0      1   \n",
       "1  Cumings, Mrs. John Bradley (Florence Briggs Th...  False  38.0      1   \n",
       "2                             Heikkinen, Miss. Laina  False  26.0      0   \n",
       "3       Futrelle, Mrs. Jacques Heath (Lily May Peel)  False  35.0      1   \n",
       "4                           Allen, Mr. William Henry   True  35.0      0   \n",
       "\n",
       "   Parch            Ticket     Fare Cabin Embarked embarked_C embarked_Q  \\\n",
       "0      0         A/5 21171   7.2500   NaN        S      False      False   \n",
       "1      0          PC 17599  71.2833   C85        C       True      False   \n",
       "2      0  STON/O2. 3101282   7.9250   NaN        S      False      False   \n",
       "3      0            113803  53.1000  C123        S      False      False   \n",
       "4      0            373450   8.0500   NaN        S      False      False   \n",
       "\n",
       "  embarked_S  \n",
       "0       True  \n",
       "1      False  \n",
       "2       True  \n",
       "3       True  \n",
       "4       True  "
      ]
     },
     "execution_count": 5,
     "metadata": {},
     "output_type": "execute_result"
    }
   ],
   "source": [
    "print train.Embarked.dtype, len(train.Embarked.unique()), train.Embarked.unique()\n",
    "\n",
    "dummies = pd.get_dummies(train.Embarked, prefix='embarked').astype(np.bool)\n",
    "train = pd.concat([train, dummies], axis=1)\n",
    "train.head()"
   ]
  },
  {
   "cell_type": "markdown",
   "metadata": {},
   "source": [
    "#General Cleaning"
   ]
  },
  {
   "cell_type": "code",
   "execution_count": 6,
   "metadata": {
    "collapsed": false
   },
   "outputs": [
    {
     "data": {
      "text/plain": [
       "PassengerId      int64:dense\n",
       "Survived         int64:dense\n",
       "Pclass           int64:dense\n",
       "Name            object:dense\n",
       "Sex               bool:dense\n",
       "Age            float64:dense\n",
       "SibSp            int64:dense\n",
       "Parch            int64:dense\n",
       "Ticket          object:dense\n",
       "Fare           float64:dense\n",
       "Cabin           object:dense\n",
       "Embarked        object:dense\n",
       "embarked_C        bool:dense\n",
       "embarked_Q        bool:dense\n",
       "embarked_S        bool:dense\n",
       "dtype: object"
      ]
     },
     "execution_count": 6,
     "metadata": {},
     "output_type": "execute_result"
    }
   ],
   "source": [
    "# inspect types\n",
    "train.ftypes"
   ]
  },
  {
   "cell_type": "code",
   "execution_count": 12,
   "metadata": {
    "collapsed": false
   },
   "outputs": [
    {
     "data": {
      "text/plain": [
       "PassengerId      int32:dense\n",
       "Survived         int32:dense\n",
       "Pclass           int32:dense\n",
       "Name            object:dense\n",
       "Sex               bool:dense\n",
       "Age            float32:dense\n",
       "SibSp            int32:dense\n",
       "Parch            int32:dense\n",
       "Ticket          object:dense\n",
       "Fare           float32:dense\n",
       "Cabin           object:dense\n",
       "Embarked        object:dense\n",
       "embarked_C        bool:dense\n",
       "embarked_Q        bool:dense\n",
       "embarked_S        bool:dense\n",
       "dtype: object"
      ]
     },
     "execution_count": 12,
     "metadata": {},
     "output_type": "execute_result"
    }
   ],
   "source": [
    "\n",
    "for col in train.columns:\n",
    "    if train[col].dtype == 'int64':\n",
    "        train[col] = train[col].astype(np.int32)\n",
    "    elif train[col].dtype == 'float64':\n",
    "        train[col] = train[col].astype(np.float32)\n",
    "    \n",
    "train.Age = train.Age.astype(np.float32)\n",
    "train.Fare = train.Fare.astype(np.float32)\n",
    "\n",
    "train.ftypes"
   ]
  },
  {
   "cell_type": "code",
   "execution_count": 8,
   "metadata": {
    "collapsed": false
   },
   "outputs": [
    {
     "data": {
      "text/plain": [
       "['Pclass',\n",
       " 'Sex',\n",
       " 'Age',\n",
       " 'SibSp',\n",
       " 'Parch',\n",
       " 'Fare',\n",
       " 'embarked_C',\n",
       " 'embarked_Q',\n",
       " 'embarked_S']"
      ]
     },
     "execution_count": 8,
     "metadata": {},
     "output_type": "execute_result"
    }
   ],
   "source": [
    "# define feature columns\n",
    "features_list = []\n",
    "exclude_list = 'Survived','PassengerId'\n",
    "\n",
    "for col in train.columns:\n",
    "    if ((train[col].dtype != 'object') & (col not in exclude_list)):\n",
    "        features_list.append(col)\n",
    "        \n",
    "features_list"
   ]
  },
  {
   "cell_type": "code",
   "execution_count": 20,
   "metadata": {
    "collapsed": false
   },
   "outputs": [
    {
     "data": {
      "text/html": [
       "<div>\n",
       "<table border=\"1\" class=\"dataframe\">\n",
       "  <thead>\n",
       "    <tr style=\"text-align: right;\">\n",
       "      <th></th>\n",
       "      <th>Pclass</th>\n",
       "      <th>Sex</th>\n",
       "      <th>Age</th>\n",
       "      <th>SibSp</th>\n",
       "      <th>Parch</th>\n",
       "      <th>Fare</th>\n",
       "      <th>embarked_C</th>\n",
       "      <th>embarked_Q</th>\n",
       "      <th>embarked_S</th>\n",
       "    </tr>\n",
       "  </thead>\n",
       "  <tbody>\n",
       "    <tr>\n",
       "      <th>0</th>\n",
       "      <td>3</td>\n",
       "      <td>True</td>\n",
       "      <td>22.0</td>\n",
       "      <td>1</td>\n",
       "      <td>0</td>\n",
       "      <td>7.250000</td>\n",
       "      <td>False</td>\n",
       "      <td>False</td>\n",
       "      <td>True</td>\n",
       "    </tr>\n",
       "    <tr>\n",
       "      <th>1</th>\n",
       "      <td>1</td>\n",
       "      <td>False</td>\n",
       "      <td>38.0</td>\n",
       "      <td>1</td>\n",
       "      <td>0</td>\n",
       "      <td>71.283302</td>\n",
       "      <td>True</td>\n",
       "      <td>False</td>\n",
       "      <td>False</td>\n",
       "    </tr>\n",
       "    <tr>\n",
       "      <th>2</th>\n",
       "      <td>3</td>\n",
       "      <td>False</td>\n",
       "      <td>26.0</td>\n",
       "      <td>0</td>\n",
       "      <td>0</td>\n",
       "      <td>7.925000</td>\n",
       "      <td>False</td>\n",
       "      <td>False</td>\n",
       "      <td>True</td>\n",
       "    </tr>\n",
       "    <tr>\n",
       "      <th>3</th>\n",
       "      <td>1</td>\n",
       "      <td>False</td>\n",
       "      <td>35.0</td>\n",
       "      <td>1</td>\n",
       "      <td>0</td>\n",
       "      <td>53.099998</td>\n",
       "      <td>False</td>\n",
       "      <td>False</td>\n",
       "      <td>True</td>\n",
       "    </tr>\n",
       "    <tr>\n",
       "      <th>4</th>\n",
       "      <td>3</td>\n",
       "      <td>True</td>\n",
       "      <td>35.0</td>\n",
       "      <td>0</td>\n",
       "      <td>0</td>\n",
       "      <td>8.050000</td>\n",
       "      <td>False</td>\n",
       "      <td>False</td>\n",
       "      <td>True</td>\n",
       "    </tr>\n",
       "  </tbody>\n",
       "</table>\n",
       "</div>"
      ],
      "text/plain": [
       "   Pclass    Sex   Age  SibSp  Parch       Fare embarked_C embarked_Q  \\\n",
       "0       3   True  22.0      1      0   7.250000      False      False   \n",
       "1       1  False  38.0      1      0  71.283302       True      False   \n",
       "2       3  False  26.0      0      0   7.925000      False      False   \n",
       "3       1  False  35.0      1      0  53.099998      False      False   \n",
       "4       3   True  35.0      0      0   8.050000      False      False   \n",
       "\n",
       "  embarked_S  \n",
       "0       True  \n",
       "1      False  \n",
       "2       True  \n",
       "3       True  \n",
       "4       True  "
      ]
     },
     "execution_count": 20,
     "metadata": {},
     "output_type": "execute_result"
    }
   ],
   "source": [
    "train_y = train.Survived\n",
    "train_X = train[train.columns.intersection(features_list)]\n",
    "train_X = train_X.replace(np.nan, 0)\n",
    "\n",
    "train_X.head()"
   ]
  },
  {
   "cell_type": "code",
   "execution_count": 21,
   "metadata": {
    "collapsed": false
   },
   "outputs": [
    {
     "name": "stdout",
     "output_type": "stream",
     "text": [
      "3    491\n",
      "1    216\n",
      "2    184\n",
      "Name: Pclass, dtype: int64\n",
      "True     577\n",
      "False    314\n",
      "Name: Sex, dtype: int64\n",
      "0.00     177\n",
      "24.00     30\n",
      "22.00     27\n",
      "18.00     26\n",
      "30.00     25\n",
      "19.00     25\n",
      "28.00     25\n",
      "21.00     24\n",
      "25.00     23\n",
      "36.00     22\n",
      "29.00     20\n",
      "35.00     18\n",
      "32.00     18\n",
      "27.00     18\n",
      "26.00     18\n",
      "16.00     17\n",
      "31.00     17\n",
      "23.00     15\n",
      "20.00     15\n",
      "33.00     15\n",
      "34.00     15\n",
      "39.00     14\n",
      "17.00     13\n",
      "40.00     13\n",
      "42.00     13\n",
      "45.00     12\n",
      "38.00     11\n",
      "50.00     10\n",
      "4.00      10\n",
      "2.00      10\n",
      "        ... \n",
      "57.00      2\n",
      "64.00      2\n",
      "28.50      2\n",
      "0.83       2\n",
      "13.00      2\n",
      "71.00      2\n",
      "55.00      2\n",
      "70.00      2\n",
      "0.75       2\n",
      "30.50      2\n",
      "59.00      2\n",
      "45.50      2\n",
      "40.50      2\n",
      "63.00      2\n",
      "80.00      1\n",
      "70.50      1\n",
      "23.50      1\n",
      "20.50      1\n",
      "0.42       1\n",
      "14.50      1\n",
      "55.50      1\n",
      "74.00      1\n",
      "12.00      1\n",
      "36.50      1\n",
      "66.00      1\n",
      "24.50      1\n",
      "53.00      1\n",
      "34.50      1\n",
      "0.67       1\n",
      "0.92       1\n",
      "Name: Age, dtype: int64\n",
      "0    608\n",
      "1    209\n",
      "2     28\n",
      "4     18\n",
      "3     16\n",
      "8      7\n",
      "5      5\n",
      "Name: SibSp, dtype: int64\n",
      "0    678\n",
      "1    118\n",
      "2     80\n",
      "5      5\n",
      "3      5\n",
      "4      4\n",
      "6      1\n",
      "Name: Parch, dtype: int64\n",
      "8.050000      43\n",
      "13.000000     42\n",
      "7.895800      38\n",
      "7.750000      34\n",
      "26.000000     31\n",
      "10.500000     24\n",
      "7.925000      18\n",
      "7.775000      16\n",
      "0.000000      15\n",
      "7.229200      15\n",
      "26.549999     15\n",
      "7.854200      13\n",
      "8.662500      13\n",
      "7.250000      13\n",
      "7.225000      12\n",
      "9.500000       9\n",
      "16.100000      9\n",
      "24.150000      8\n",
      "15.500000      8\n",
      "56.495800      7\n",
      "14.500000      7\n",
      "14.454200      7\n",
      "31.275000      7\n",
      "69.550003      7\n",
      "7.050000       7\n",
      "52.000000      7\n",
      "26.250000      6\n",
      "30.000000      6\n",
      "46.900002      6\n",
      "27.900000      6\n",
      "              ..\n",
      "12.275000      1\n",
      "9.475000       1\n",
      "13.858300      1\n",
      "5.000000       1\n",
      "13.862500      1\n",
      "8.112500       1\n",
      "34.654202      1\n",
      "7.800000       1\n",
      "25.924999      1\n",
      "12.000000      1\n",
      "50.495800      1\n",
      "22.525000      1\n",
      "47.099998      1\n",
      "26.387501      1\n",
      "15.000000      1\n",
      "8.362500       1\n",
      "63.358299      1\n",
      "221.779205     1\n",
      "6.858300       1\n",
      "51.479198      1\n",
      "13.791700      1\n",
      "8.516700       1\n",
      "14.108300      1\n",
      "9.837500       1\n",
      "6.237500       1\n",
      "7.629200       1\n",
      "15.050000      1\n",
      "4.012500       1\n",
      "12.287500      1\n",
      "6.950000       1\n",
      "Name: Fare, dtype: int64\n",
      "False    723\n",
      "True     168\n",
      "Name: embarked_C, dtype: int64\n",
      "False    814\n",
      "True      77\n",
      "Name: embarked_Q, dtype: int64\n",
      "True     646\n",
      "False    245\n",
      "Name: embarked_S, dtype: int64\n"
     ]
    }
   ],
   "source": [
    "for col in train_X.columns:\n",
    "    print train_X[col].value_counts(dropna=False)"
   ]
  },
  {
   "cell_type": "markdown",
   "metadata": {},
   "source": [
    "#Train Random Forest"
   ]
  },
  {
   "cell_type": "code",
   "execution_count": 22,
   "metadata": {
    "collapsed": false
   },
   "outputs": [
    {
     "data": {
      "text/plain": [
       "RandomForestClassifier(bootstrap=True, class_weight=None, criterion='gini',\n",
       "            max_depth=None, max_features='auto', max_leaf_nodes=None,\n",
       "            min_samples_leaf=1, min_samples_split=2,\n",
       "            min_weight_fraction_leaf=0.0, n_estimators=10, n_jobs=1,\n",
       "            oob_score=False, random_state=None, verbose=0,\n",
       "            warm_start=False)"
      ]
     },
     "execution_count": 22,
     "metadata": {},
     "output_type": "execute_result"
    }
   ],
   "source": [
    "clf = RandomForestClassifier()\n",
    "\n",
    "clf.fit(train_X, train_y)"
   ]
  },
  {
   "cell_type": "code",
   "execution_count": 30,
   "metadata": {
    "collapsed": false
   },
   "outputs": [
    {
     "name": "stdout",
     "output_type": "stream",
     "text": [
      "[[544   5]\n",
      " [ 20 322]] \n",
      "\n",
      "\n",
      "[[ 0.99089253  0.00910747]\n",
      " [ 0.05847953  0.94152047]]\n"
     ]
    },
    {
     "data": {
      "text/plain": [
       "0.97194163860830529"
      ]
     },
     "execution_count": 30,
     "metadata": {},
     "output_type": "execute_result"
    }
   ],
   "source": [
    "train_predicted = clf.predict(train_X)\n",
    "\n",
    "cm = confusion_matrix(train_y, train_predicted)\n",
    "cm_norm = cm.astype('float') / cm.sum(axis=1)[:, np.newaxis]\n",
    "\n",
    "print cm, '\\n\\n\\n', cm_norm\n",
    "\n",
    "accuracy_score(train_y, train_predicted)"
   ]
  },
  {
   "cell_type": "code",
   "execution_count": null,
   "metadata": {
    "collapsed": true
   },
   "outputs": [],
   "source": []
  }
 ],
 "metadata": {
  "kernelspec": {
   "display_name": "Python 2",
   "language": "python",
   "name": "python2"
  },
  "language_info": {
   "codemirror_mode": {
    "name": "ipython",
    "version": 2
   },
   "file_extension": ".py",
   "mimetype": "text/x-python",
   "name": "python",
   "nbconvert_exporter": "python",
   "pygments_lexer": "ipython2",
   "version": "2.7.10"
  }
 },
 "nbformat": 4,
 "nbformat_minor": 0
}
